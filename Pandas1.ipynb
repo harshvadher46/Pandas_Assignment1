{
 "cells": [
  {
   "cell_type": "code",
   "execution_count": 7,
   "id": "12b34fd4-5a40-4ed4-9e77-b6cb7141f211",
   "metadata": {},
   "outputs": [],
   "source": [
    "import pandas as pd"
   ]
  },
  {
   "cell_type": "code",
   "execution_count": 8,
   "id": "9fa15875-4776-4c7e-aea3-432aa02f475f",
   "metadata": {},
   "outputs": [
    {
     "name": "stdout",
     "output_type": "stream",
     "text": [
      "Requirement already satisfied: pandas in /opt/conda/lib/python3.10/site-packages (1.5.2)\n",
      "Requirement already satisfied: python-dateutil>=2.8.1 in /opt/conda/lib/python3.10/site-packages (from pandas) (2.8.2)\n",
      "Requirement already satisfied: pytz>=2020.1 in /opt/conda/lib/python3.10/site-packages (from pandas) (2022.6)\n",
      "Requirement already satisfied: numpy>=1.21.0 in /opt/conda/lib/python3.10/site-packages (from pandas) (1.23.5)\n",
      "Requirement already satisfied: six>=1.5 in /opt/conda/lib/python3.10/site-packages (from python-dateutil>=2.8.1->pandas) (1.16.0)\n",
      "Note: you may need to restart the kernel to use updated packages.\n"
     ]
    }
   ],
   "source": [
    "pip install pandas"
   ]
  },
  {
   "cell_type": "code",
   "execution_count": 9,
   "id": "839be111-c87b-469d-900e-f41b31fdf502",
   "metadata": {},
   "outputs": [],
   "source": [
    "data = pd.Series([\"4, 8, 15, 16, 23,42\"])"
   ]
  },
  {
   "cell_type": "code",
   "execution_count": 10,
   "id": "bbb9ce30-a2a5-42c2-ab35-0a9c5adaecf7",
   "metadata": {},
   "outputs": [
    {
     "name": "stdout",
     "output_type": "stream",
     "text": [
      "0    4, 8, 15, 16, 23,42\n",
      "dtype: object\n"
     ]
    }
   ],
   "source": [
    "print(data)"
   ]
  },
  {
   "cell_type": "code",
   "execution_count": 11,
   "id": "dacd478b-13f1-4714-907a-d455e09cf6a0",
   "metadata": {},
   "outputs": [],
   "source": [
    "# Create a variable of list type containing 10 elements in it, and apply pandas.Series function on the\n",
    "# variable print it."
   ]
  },
  {
   "cell_type": "code",
   "execution_count": 12,
   "id": "f884b8c5-a849-45d7-a7a6-35e3e566590b",
   "metadata": {},
   "outputs": [],
   "source": [
    "Data1 = pd.Series([11,12,13,14,15,16,17,18,19,20])"
   ]
  },
  {
   "cell_type": "code",
   "execution_count": 13,
   "id": "c9ec8a89-c8f4-4eea-b11c-284ea4a720f3",
   "metadata": {},
   "outputs": [
    {
     "name": "stdout",
     "output_type": "stream",
     "text": [
      "0    11\n",
      "1    12\n",
      "2    13\n",
      "3    14\n",
      "4    15\n",
      "5    16\n",
      "6    17\n",
      "7    18\n",
      "8    19\n",
      "9    20\n",
      "dtype: int64\n"
     ]
    }
   ],
   "source": [
    "print(Data1)"
   ]
  },
  {
   "cell_type": "code",
   "execution_count": 14,
   "id": "9ab19320-c55c-4260-abc6-9bb410fa0f8e",
   "metadata": {},
   "outputs": [],
   "source": [
    "# Create a Pandas DataFrame that contains the following data:"
   ]
  },
  {
   "cell_type": "code",
   "execution_count": 15,
   "id": "15255f72-1d22-4af9-81ad-b6ba8fa84d03",
   "metadata": {},
   "outputs": [],
   "source": [
    "data2 = {\n",
    "\"name\" : [\"alice\" , \"bob\" , \"claire\"],\n",
    "\"age\" : [25 , 30 , 27],\n",
    "\"gender\" : [\"female\" , \"male\" , \"female\"],\n",
    "}"
   ]
  },
  {
   "cell_type": "code",
   "execution_count": 16,
   "id": "47d4a49d-8e86-454f-b8b1-f68cfe9ef8b9",
   "metadata": {},
   "outputs": [],
   "source": [
    "df = pd.DataFrame(data2)"
   ]
  },
  {
   "cell_type": "code",
   "execution_count": 17,
   "id": "2646e38f-5952-4844-97d0-a0af76e5fa04",
   "metadata": {},
   "outputs": [
    {
     "name": "stdout",
     "output_type": "stream",
     "text": [
      "     name  age  gender\n",
      "0   alice   25  female\n",
      "1     bob   30    male\n",
      "2  claire   27  female\n"
     ]
    }
   ],
   "source": [
    "print(df)"
   ]
  },
  {
   "cell_type": "code",
   "execution_count": 18,
   "id": "8f59f0f9-602a-43b9-b546-c80a581f5c77",
   "metadata": {},
   "outputs": [],
   "source": [
    "# Q4. What is ‘DataFrame’ in pandas and how is it different from pandas.series? Explain with an example."
   ]
  },
  {
   "cell_type": "code",
   "execution_count": 19,
   "id": "a436742c-1fa1-46e4-878c-257d72133225",
   "metadata": {},
   "outputs": [],
   "source": [
    "\"\"\" DataFrame:\n",
    "Multidimensional data structure: Organizes data into a two-dimensional table with labeled rows and columns.\n",
    "Handles diverse data: Can accommodate columns of different data types (e.g., numbers, strings, dates).\"\"\"\n",
    "# ex\n",
    "\n",
    "data2 = {\n",
    "\"name\" : [\"alice\" , \"bob\" , \"claire\"],\n",
    "\"age\" : [25 , 30 , 27],\n",
    "\"gender\" : [\"female\" , \"male\" , \"female\"],\n",
    "}"
   ]
  },
  {
   "cell_type": "code",
   "execution_count": 20,
   "id": "11da1897-9b4b-4c29-8169-29630746c7a9",
   "metadata": {},
   "outputs": [],
   "source": [
    "df = pd.DataFrame(data2)"
   ]
  },
  {
   "cell_type": "code",
   "execution_count": 21,
   "id": "201047a0-aba8-4d13-b72b-f1caa2c760d8",
   "metadata": {},
   "outputs": [
    {
     "name": "stdout",
     "output_type": "stream",
     "text": [
      "     name  age  gender\n",
      "0   alice   25  female\n",
      "1     bob   30    male\n",
      "2  claire   27  female\n"
     ]
    }
   ],
   "source": [
    "print(df)"
   ]
  },
  {
   "cell_type": "code",
   "execution_count": 22,
   "id": "6482b94a-13d7-46dc-8f56-65f45742072e",
   "metadata": {},
   "outputs": [],
   "source": [
    "'''\n",
    "Series:\n",
    "-One-dimensional array: Represents a single column of data with an optional index label for each element.\n",
    "-Homogeneous data types: All elements within a Series must have the same data type.'''\n",
    "# ex\n",
    "\n",
    "df = pd.Series([1,2,3,4,5])"
   ]
  },
  {
   "cell_type": "code",
   "execution_count": 23,
   "id": "1c35349b-5352-461a-8516-ecd60b0d05ac",
   "metadata": {},
   "outputs": [
    {
     "name": "stdout",
     "output_type": "stream",
     "text": [
      "0    1\n",
      "1    2\n",
      "2    3\n",
      "3    4\n",
      "4    5\n",
      "dtype: int64\n"
     ]
    }
   ],
   "source": [
    "print(df)"
   ]
  },
  {
   "cell_type": "code",
   "execution_count": 24,
   "id": "c1760186-ea4e-409e-a1a4-c77a691d8e9b",
   "metadata": {},
   "outputs": [],
   "source": [
    "#dataFrame stores 2 dimensional data and Series stores 1-Dimensional data this is the major difference between both"
   ]
  },
  {
   "cell_type": "code",
   "execution_count": 25,
   "id": "11e546d6-90f5-4559-ab84-c5c10154faa0",
   "metadata": {},
   "outputs": [
    {
     "data": {
      "text/plain": [
       "'Q5. What are some common functions you can use to manipulate data in a Pandas DataFrame? Can\\nyou give an example of when you might use one of these functions?'"
      ]
     },
     "execution_count": 25,
     "metadata": {},
     "output_type": "execute_result"
    }
   ],
   "source": [
    "'''Q5. What are some common functions you can use to manipulate data in a Pandas DataFrame? Can\n",
    "you give an example of when you might use one of these functions?'''\n",
    "\n",
    "'''       --Answer--\n",
    "   read_csv() -> to read the csv file \n",
    "   read_excel() -> to read the data of excel file\n",
    "   head() -> read/print data from head/upper side\n",
    "   tail() -> read/print data from lower/downword side\n",
    "   sort_values() , columns() , pandas_size() etc this are some functions used in pandas to manipulate the data '''"
   ]
  },
  {
   "cell_type": "code",
   "execution_count": 26,
   "id": "847f473f-4f71-4476-b648-bdf40f0bedc3",
   "metadata": {},
   "outputs": [],
   "source": [
    "# Which of the following is mutable in nature Series, DataFrame, Panel?\n",
    "# Answer -> Both DataFrames and Panels are mutable in nature, while Series are only value-mutable, not size-mutable."
   ]
  },
  {
   "cell_type": "code",
   "execution_count": 27,
   "id": "f82393f1-42c6-4335-8cc5-1b7dcbbf8ad6",
   "metadata": {},
   "outputs": [],
   "source": [
    "# Q-7 Create a DataFrame using multiple Series. Explain with an example."
   ]
  },
  {
   "cell_type": "code",
   "execution_count": 28,
   "id": "974c4a29-1085-468b-9fb4-82e494ff782a",
   "metadata": {},
   "outputs": [],
   "source": [
    "names = pd.Series([\"Harsh\" , \"ravi\" , \"Aryan\"])\n",
    "ages = pd.Series([23, 24 , 25])\n",
    "gender = pd.Series([\"male\" , \"male\" , \"male\"])"
   ]
  },
  {
   "cell_type": "code",
   "execution_count": 29,
   "id": "9b79cc08-297b-4920-b208-7236719ab54e",
   "metadata": {},
   "outputs": [],
   "source": [
    "df = pd.DataFrame({'Name': names , 'age': ages , 'gender' : gender })"
   ]
  },
  {
   "cell_type": "code",
   "execution_count": 30,
   "id": "984ef4de-d73d-4f70-bea7-5579cb464e72",
   "metadata": {},
   "outputs": [
    {
     "name": "stdout",
     "output_type": "stream",
     "text": [
      "    Name  age gender\n",
      "0  Harsh   23   male\n",
      "1   ravi   24   male\n",
      "2  Aryan   25   male\n"
     ]
    }
   ],
   "source": [
    "print(df)"
   ]
  },
  {
   "cell_type": "code",
   "execution_count": null,
   "id": "22fc6969-2724-400a-af81-6bad106f7aed",
   "metadata": {},
   "outputs": [],
   "source": []
  }
 ],
 "metadata": {
  "kernelspec": {
   "display_name": "Python 3 (ipykernel)",
   "language": "python",
   "name": "python3"
  },
  "language_info": {
   "codemirror_mode": {
    "name": "ipython",
    "version": 3
   },
   "file_extension": ".py",
   "mimetype": "text/x-python",
   "name": "python",
   "nbconvert_exporter": "python",
   "pygments_lexer": "ipython3",
   "version": "3.10.8"
  }
 },
 "nbformat": 4,
 "nbformat_minor": 5
}
